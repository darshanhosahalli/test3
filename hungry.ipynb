{
 "cells": [
  {
   "cell_type": "code",
   "execution_count": 5,
   "metadata": {},
   "outputs": [
    {
     "name": "stdout",
     "output_type": "stream",
     "text": [
      "are you  hungryyes\n"
     ]
    }
   ],
   "source": [
    "hungry = input('are you  hungry')"
   ]
  },
  {
   "cell_type": "code",
   "execution_count": 6,
   "metadata": {},
   "outputs": [
    {
     "name": "stdout",
     "output_type": "stream",
     "text": [
      "eat dinner\n",
      "drink water\n",
      "drink milk\n",
      "go to hell\n",
      "I'm the one\n"
     ]
    }
   ],
   "source": [
    "if hungry == 'yes':\n",
    "    print('eat dinner')\n",
    "    print('drink water')\n",
    "    print('drink milk')\n",
    "    print('go to hell')\n",
    "    print(\"I'm the one\")\n",
    "else:\n",
    "    print('do home work')\n",
    "    print('alpha chino')"
   ]
  },
  {
   "cell_type": "code",
   "execution_count": null,
   "metadata": {},
   "outputs": [],
   "source": []
  }
 ],
 "metadata": {
  "kernelspec": {
   "display_name": "Python 3",
   "language": "python",
   "name": "python3"
  },
  "language_info": {
   "codemirror_mode": {
    "name": "ipython",
    "version": 3
   },
   "file_extension": ".py",
   "mimetype": "text/x-python",
   "name": "python",
   "nbconvert_exporter": "python",
   "pygments_lexer": "ipython3",
   "version": "3.7.1"
  }
 },
 "nbformat": 4,
 "nbformat_minor": 2
}
